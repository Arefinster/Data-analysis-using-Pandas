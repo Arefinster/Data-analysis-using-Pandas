{
 "cells": [
  {
   "cell_type": "code",
   "execution_count": null,
   "metadata": {},
   "outputs": [],
   "source": [
    "#school_data_grouped = school_data_complete.groupby([\"school_name\",\"type\"]).size().sort_index() #, \"budget\"])\n",
    "#school_data_grouped.columns = ['school_name', 'type']\n",
    "#school_data_grouped\n",
    "#school_data_grouped_2 = pd.DataFrame(school_data_grouped)\n",
    "#school_data_grouped_2\n",
    "#print(school_data_grouped_2)#.columns\n",
    "#school_types = [key[1] for key in school_data_grouped.groups.keys()]\n",
    "#school_types"
   ]
  },
  {
   "cell_type": "code",
   "execution_count": null,
   "metadata": {},
   "outputs": [],
   "source": [
    "#school_data_grouped = school_data_complete.groupby([\"school_name\",\"type\"]).size()\n",
    "#school_data_grouped\n",
    "#school_data_grouped = school_data_complete.groupby([\"school_name\",\"type\"], as_index=False).count() #size().sort_index()\n",
    "#school_data_grouped#[\"type\"]"
   ]
  },
  {
   "cell_type": "code",
   "execution_count": null,
   "metadata": {},
   "outputs": [],
   "source": [
    "#school_data_grouped = school_data_complete.groupby([\"school_name\",\"type\"], as_index=False).count()\n",
    "#school_data_grouped[\"type\"]\n",
    "#school_data_grouped[\"school_name\"]\n",
    "\n",
    "#school_data_grouped = school_data_complete.groupby(\"school_name\")[\"type\"].first()\n",
    "#school_data_grouped\n",
    "\n",
    "a = pd.DataFrame(school_data_complete.groupby([\"school_name\",\"type\"]).size())\n",
    "a\n",
    "\n",
    "# Obtain the school names in alphabetical order\n",
    "school_names = [key[0] for key in school_data_grouped.groups.keys()]\n",
    "school_names\n",
    "\n",
    "#per_school_counts = [count for count in school_data_complete[\"school_name\"].value_counts().sort_index()]\n",
    "\n",
    "#test = school_data_complete[(school_data_complete[\"math_score\"] >= 70)]\n",
    "#test.groupby([\"school_name\"]).size()\n",
    "#per_school_passing_math = [key for key in per_school_passing_math]\n",
    "#per_school_passing_reading = per_school_passing_reading.values #[key for key in per_school_passing_reading]\n",
    "\n",
    "#per_school_reading = [schReadAvg for schReadAvg in school_data_complete.groupby(\"school_name\")[\"reading_score\"].mean()]"
   ]
  },
  {
   "cell_type": "code",
   "execution_count": 1,
   "metadata": {},
   "outputs": [
    {
     "ename": "NameError",
     "evalue": "name 'per_school_counts' is not defined",
     "output_type": "error",
     "traceback": [
      "\u001b[1;31m---------------------------------------------------------------------------\u001b[0m",
      "\u001b[1;31mNameError\u001b[0m                                 Traceback (most recent call last)",
      "\u001b[1;32m<ipython-input-1-0bf5f824a5b3>\u001b[0m in \u001b[0;36m<module>\u001b[1;34m\u001b[0m\n\u001b[0;32m      1\u001b[0m \u001b[1;31m#per_school_math = [schMathAvg for schMathAvg in school_data_complete.groupby(\"school_name\")[\"math_score\"].mean()]\u001b[0m\u001b[1;33m\u001b[0m\u001b[1;33m\u001b[0m\u001b[1;33m\u001b[0m\u001b[0m\n\u001b[0;32m      2\u001b[0m \u001b[1;33m\u001b[0m\u001b[0m\n\u001b[1;32m----> 3\u001b[1;33m \u001b[0mschool_name_list\u001b[0m \u001b[1;33m=\u001b[0m \u001b[0mper_school_counts\u001b[0m\u001b[1;33m.\u001b[0m\u001b[0mindex\u001b[0m\u001b[1;33m.\u001b[0m\u001b[0mtolist\u001b[0m\u001b[1;33m(\u001b[0m\u001b[1;33m)\u001b[0m\u001b[1;33m\u001b[0m\u001b[1;33m\u001b[0m\u001b[0m\n\u001b[0m\u001b[0;32m      4\u001b[0m \u001b[1;31m#math_scores_by_grade.set_index(\"School Names\")\u001b[0m\u001b[1;33m\u001b[0m\u001b[1;33m\u001b[0m\u001b[1;33m\u001b[0m\u001b[0m\n\u001b[0;32m      5\u001b[0m \u001b[1;33m\u001b[0m\u001b[0m\n",
      "\u001b[1;31mNameError\u001b[0m: name 'per_school_counts' is not defined"
     ]
    }
   ],
   "source": [
    "#per_school_math = [schMathAvg for schMathAvg in school_data_complete.groupby(\"school_name\")[\"math_score\"].mean()]\n",
    "\n",
    "school_name_list = per_school_counts.index.tolist()\n",
    "#math_scores_by_grade.set_index(\"School Names\")\n",
    "\n",
    "a = pd.merge(ninth_grade_reading_scores, tenth_grader_reading_scores)\n",
    "a\n"
   ]
  },
  {
   "cell_type": "code",
   "execution_count": null,
   "metadata": {},
   "outputs": [],
   "source": [
    "school_spending_df[\"Per Student Budget\"] = school_spending_df[\"Per Student Budget\"].str.replace(\"$\",\" \").astype(float)\n",
    "school_spending_df"
   ]
  }
 ],
 "metadata": {
  "kernelspec": {
   "display_name": "Python 3",
   "language": "python",
   "name": "python3"
  },
  "language_info": {
   "codemirror_mode": {
    "name": "ipython",
    "version": 3
   },
   "file_extension": ".py",
   "mimetype": "text/x-python",
   "name": "python",
   "nbconvert_exporter": "python",
   "pygments_lexer": "ipython3",
   "version": "3.7.6"
  }
 },
 "nbformat": 4,
 "nbformat_minor": 4
}
